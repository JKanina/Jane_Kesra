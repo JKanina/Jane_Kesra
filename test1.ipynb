{
 "cells": [
  {
   "cell_type": "code",
   "execution_count": null,
   "id": "14dbf602-9b22-46fb-9f2f-fc5fa48af4fe",
   "metadata": {},
   "outputs": [],
   "source": [
    "###Personal Details"
   ]
  },
  {
   "cell_type": "code",
   "execution_count": 3,
   "id": "3a5ae252-428d-4d59-bdbc-aab2cff74b46",
   "metadata": {},
   "outputs": [],
   "source": [
    "Jane={\"fullname\":\"Jane Kanina\",\"age\":20, \"country\":\"Kenya\", \"marital status\": \"married\",}"
   ]
  },
  {
   "cell_type": "code",
   "execution_count": 6,
   "id": "8b8faeb1-e1ae-46a7-b7f5-9e2f38961677",
   "metadata": {},
   "outputs": [
    {
     "data": {
      "text/plain": [
       "'Jane Kanina'"
      ]
     },
     "execution_count": 6,
     "metadata": {},
     "output_type": "execute_result"
    }
   ],
   "source": [
    "Jane[\"fullname\"]"
   ]
  },
  {
   "cell_type": "code",
   "execution_count": null,
   "id": "c8db00d6-9017-4396-a58b-c906ac618ba0",
   "metadata": {},
   "outputs": [],
   "source": []
  }
 ],
 "metadata": {
  "kernelspec": {
   "display_name": "Python [conda env:base] *",
   "language": "python",
   "name": "conda-base-py"
  },
  "language_info": {
   "codemirror_mode": {
    "name": "ipython",
    "version": 3
   },
   "file_extension": ".py",
   "mimetype": "text/x-python",
   "name": "python",
   "nbconvert_exporter": "python",
   "pygments_lexer": "ipython3",
   "version": "3.12.7"
  }
 },
 "nbformat": 4,
 "nbformat_minor": 5
}
